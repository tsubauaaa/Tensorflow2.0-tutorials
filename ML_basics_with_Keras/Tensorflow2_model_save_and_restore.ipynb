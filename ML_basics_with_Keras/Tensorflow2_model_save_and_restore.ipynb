{
  "nbformat": 4,
  "nbformat_minor": 0,
  "metadata": {
    "colab": {
      "name": "Tensorflow2_model_save_and_restore.ipynb",
      "provenance": [],
      "include_colab_link": true
    },
    "kernelspec": {
      "name": "python3",
      "display_name": "Python 3"
    }
  },
  "cells": [
    {
      "cell_type": "markdown",
      "metadata": {
        "id": "view-in-github",
        "colab_type": "text"
      },
      "source": [
        "<a href=\"https://colab.research.google.com/github/tsubauaaa/Tensorflow2.0-tutorials/blob/master/Tensorflow2_model_save_and_restore.ipynb\" target=\"_parent\"><img src=\"https://colab.research.google.com/assets/colab-badge.svg\" alt=\"Open In Colab\"/></a>"
      ]
    },
    {
      "cell_type": "markdown",
      "metadata": {
        "id": "JfTVQU_Vrfe1",
        "colab_type": "text"
      },
      "source": [
        "## モデルの保存と復元\n",
        "\n",
        "モデルは訓練中にも、訓練が終わったあとも保存できる。このことは、長い訓練時間を掛けなくても、やめたところから再開できるということを意味する。モデルが保存可能であることは、あなたが作ったモデルを他の人と共有できるということでもある。研究結果であるモデルや手法を公開する際、機械学習の実践者はほとんど次のものを共有する。\n",
        "\n",
        "* モデルを構築するプログラム\n",
        "* 学習済みモデルの重みあるいはパラメータ\n",
        "\n",
        "このデータを共有することで、他の人がモデルをどの様に動作するかを理解したり、新しいデータに試してみたりすることが容易になる。\n",
        "\n",
        "### オプション\n",
        "TensorFlowのモデルを保存する方法は、使っているAPIによって異なる。このガイドはTensorFlowのモデルを構築し訓練するためのハイレベルなAPIであるtf.kerasを使っている。"
      ]
    },
    {
      "cell_type": "code",
      "metadata": {
        "id": "zeiECtaOrXXz",
        "colab_type": "code",
        "outputId": "7de1fcda-df5b-4d01-bb05-d3959ad9cec4",
        "colab": {
          "base_uri": "https://localhost:8080/",
          "height": 394
        }
      },
      "source": [
        "!pip install -q h5py pyyaml\n",
        "!pip install tensorflow-gpu==2.0.0"
      ],
      "execution_count": 1,
      "outputs": [
        {
          "output_type": "stream",
          "text": [
            "Requirement already satisfied: tensorflow-gpu==2.0.0 in /usr/local/lib/python3.6/dist-packages (2.0.0)\n",
            "Requirement already satisfied: keras-applications>=1.0.8 in /usr/local/lib/python3.6/dist-packages (from tensorflow-gpu==2.0.0) (1.0.8)\n",
            "Requirement already satisfied: tensorflow-estimator<2.1.0,>=2.0.0 in /usr/local/lib/python3.6/dist-packages (from tensorflow-gpu==2.0.0) (2.0.0)\n",
            "Requirement already satisfied: wrapt>=1.11.1 in /usr/local/lib/python3.6/dist-packages (from tensorflow-gpu==2.0.0) (1.11.2)\n",
            "Requirement already satisfied: protobuf>=3.6.1 in /usr/local/lib/python3.6/dist-packages (from tensorflow-gpu==2.0.0) (3.7.1)\n",
            "Requirement already satisfied: six>=1.10.0 in /usr/local/lib/python3.6/dist-packages (from tensorflow-gpu==2.0.0) (1.12.0)\n",
            "Requirement already satisfied: wheel>=0.26 in /usr/local/lib/python3.6/dist-packages (from tensorflow-gpu==2.0.0) (0.33.6)\n",
            "Requirement already satisfied: termcolor>=1.1.0 in /usr/local/lib/python3.6/dist-packages (from tensorflow-gpu==2.0.0) (1.1.0)\n",
            "Requirement already satisfied: opt-einsum>=2.3.2 in /usr/local/lib/python3.6/dist-packages (from tensorflow-gpu==2.0.0) (3.1.0)\n",
            "Requirement already satisfied: grpcio>=1.8.6 in /usr/local/lib/python3.6/dist-packages (from tensorflow-gpu==2.0.0) (1.15.0)\n",
            "Requirement already satisfied: numpy<2.0,>=1.16.0 in /usr/local/lib/python3.6/dist-packages (from tensorflow-gpu==2.0.0) (1.16.5)\n",
            "Requirement already satisfied: astor>=0.6.0 in /usr/local/lib/python3.6/dist-packages (from tensorflow-gpu==2.0.0) (0.8.0)\n",
            "Requirement already satisfied: absl-py>=0.7.0 in /usr/local/lib/python3.6/dist-packages (from tensorflow-gpu==2.0.0) (0.8.0)\n",
            "Requirement already satisfied: tensorboard<2.1.0,>=2.0.0 in /usr/local/lib/python3.6/dist-packages (from tensorflow-gpu==2.0.0) (2.0.0)\n",
            "Requirement already satisfied: keras-preprocessing>=1.0.5 in /usr/local/lib/python3.6/dist-packages (from tensorflow-gpu==2.0.0) (1.1.0)\n",
            "Requirement already satisfied: google-pasta>=0.1.6 in /usr/local/lib/python3.6/dist-packages (from tensorflow-gpu==2.0.0) (0.1.7)\n",
            "Requirement already satisfied: gast==0.2.2 in /usr/local/lib/python3.6/dist-packages (from tensorflow-gpu==2.0.0) (0.2.2)\n",
            "Requirement already satisfied: h5py in /usr/local/lib/python3.6/dist-packages (from keras-applications>=1.0.8->tensorflow-gpu==2.0.0) (2.8.0)\n",
            "Requirement already satisfied: setuptools in /usr/local/lib/python3.6/dist-packages (from protobuf>=3.6.1->tensorflow-gpu==2.0.0) (41.2.0)\n",
            "Requirement already satisfied: markdown>=2.6.8 in /usr/local/lib/python3.6/dist-packages (from tensorboard<2.1.0,>=2.0.0->tensorflow-gpu==2.0.0) (3.1.1)\n",
            "Requirement already satisfied: werkzeug>=0.11.15 in /usr/local/lib/python3.6/dist-packages (from tensorboard<2.1.0,>=2.0.0->tensorflow-gpu==2.0.0) (0.16.0)\n"
          ],
          "name": "stdout"
        }
      ]
    },
    {
      "cell_type": "markdown",
      "metadata": {
        "id": "JcSjW_JYsFPx",
        "colab_type": "text"
      },
      "source": [
        "### サンプルデータセットの取得\n",
        "ここでは、モデルを訓練し重みの保存をデモするために、 MNIST dataset を使う。デモの実行を速くするため、最初の1,000件のサンプルだけを使う。"
      ]
    },
    {
      "cell_type": "code",
      "metadata": {
        "id": "AQ-dD2qAsBQU",
        "colab_type": "code",
        "outputId": "fd2577f0-ce80-4dc2-f478-d5b9625af4d9",
        "colab": {
          "base_uri": "https://localhost:8080/",
          "height": 34
        }
      },
      "source": [
        "from __future__ import absolute_import, division, print_function, unicode_literals\n",
        "\n",
        "import os\n",
        "\n",
        "import tensorflow as tf\n",
        "from tensorflow import keras\n",
        "\n",
        "tf.__version__"
      ],
      "execution_count": 2,
      "outputs": [
        {
          "output_type": "execute_result",
          "data": {
            "text/plain": [
              "'2.0.0'"
            ]
          },
          "metadata": {
            "tags": []
          },
          "execution_count": 2
        }
      ]
    },
    {
      "cell_type": "code",
      "metadata": {
        "id": "pVNpLZdUsisG",
        "colab_type": "code",
        "colab": {}
      },
      "source": [
        "(train_images, train_labels), (test_images, test_labels) = tf.keras.datasets.mnist.load_data()\n",
        "\n",
        "train_labels = train_labels[:1000]\n",
        "test_labels = test_labels[:1000]\n",
        "\n",
        "train_images = train_images[:1000].reshape(-1, 28 * 28) / 255.0\n",
        "test_images = test_images[:1000].reshape(-1, 28 * 28) / 255.0"
      ],
      "execution_count": 0,
      "outputs": []
    },
    {
      "cell_type": "markdown",
      "metadata": {
        "id": "EhakzvA4srQ3",
        "colab_type": "text"
      },
      "source": [
        "### モデルの定義\n",
        "重みの保存と読み込みのデモを行うための簡単なモデルを定義する。"
      ]
    },
    {
      "cell_type": "code",
      "metadata": {
        "id": "sOvXD9yrue_O",
        "colab_type": "code",
        "outputId": "e911601f-4ddc-4461-bff3-3022671ecb63",
        "colab": {
          "base_uri": "https://localhost:8080/",
          "height": 275
        }
      },
      "source": [
        "# 短いシーケンシャルモデルを返す関数\n",
        "def create_model():\n",
        "  model = tf.keras.models.Sequential([\n",
        "      keras.layers.Dense(512, activation='relu', input_shape=(784,)),\n",
        "      keras.layers.Dropout(0.2),\n",
        "      keras.layers.Dense(10, activation='softmax')\n",
        "  ])\n",
        "\n",
        "  model.compile(optimizer='adam',\n",
        "                loss='sparse_categorical_crossentropy',\n",
        "                metrics=['accuracy'])\n",
        "  \n",
        "  return model\n",
        "\n",
        "\n",
        "# 基本的なモデルのインスタンスを作る\n",
        "model = create_model()\n",
        "model.summary()"
      ],
      "execution_count": 4,
      "outputs": [
        {
          "output_type": "stream",
          "text": [
            "Model: \"sequential\"\n",
            "_________________________________________________________________\n",
            "Layer (type)                 Output Shape              Param #   \n",
            "=================================================================\n",
            "dense (Dense)                (None, 512)               401920    \n",
            "_________________________________________________________________\n",
            "dropout (Dropout)            (None, 512)               0         \n",
            "_________________________________________________________________\n",
            "dense_1 (Dense)              (None, 10)                5130      \n",
            "=================================================================\n",
            "Total params: 407,050\n",
            "Trainable params: 407,050\n",
            "Non-trainable params: 0\n",
            "_________________________________________________________________\n"
          ],
          "name": "stdout"
        }
      ]
    },
    {
      "cell_type": "markdown",
      "metadata": {
        "id": "VdOyY1gWvrh2",
        "colab_type": "text"
      },
      "source": [
        "### 訓練中にチェックポイントを保存する\n",
        "主な用途は訓練の途中あるいは終了後にチェックポイントを自動的に保存すること。こうすることにより、再び訓練を行うことなくモデルを使用することができ、また、訓練が中断された場合に、中止したところから再開できる。\n",
        "\n",
        "tf.keras.callbacks.ModelCheckpointがこれを行うためのコールバック。このコールバックにはチェックポイントを構成するためのいくつかの引数がある。\n",
        "\n",
        "#### チェックポイントコールバックの使い方\n",
        "モデルの訓練時に、ModelCheckpointを渡す。"
      ]
    },
    {
      "cell_type": "code",
      "metadata": {
        "id": "DvGmMCwSvS3E",
        "colab_type": "code",
        "outputId": "06ce8838-0bae-4ce4-f435-8c80f7892f12",
        "colab": {
          "base_uri": "https://localhost:8080/",
          "height": 751
        }
      },
      "source": [
        "checkpoint_path = \"training_1/cp.ckpt\"\n",
        "checkpoint_dir = os.path.dirname(checkpoint_path)\n",
        "\n",
        "# チェックポイントコールバックを作る\n",
        "cp_callback = tf.keras.callbacks.ModelCheckpoint(checkpoint_path,\n",
        "                                                                                       save_weights_only=True,\n",
        "                                                                                       verbose=1)\n",
        "\n",
        "model = create_model()\n",
        "\n",
        "model.fit(train_images, train_labels, epochs = 10,\n",
        "          validation_data = (test_images, test_labels),\n",
        "          callbacks = [cp_callback]) # 訓練にコールバックを渡す\n",
        "\n",
        "# オプティマイザの状態保存についての警告が表示されるかもしれない。\n",
        "# これらの警告は（このノートブックで発生する同様な警告を含めて）\n",
        "# 古い用法を非推奨にするためのもので、無視してOK。"
      ],
      "execution_count": 5,
      "outputs": [
        {
          "output_type": "stream",
          "text": [
            "Train on 1000 samples, validate on 1000 samples\n",
            "Epoch 1/10\n",
            " 832/1000 [=======================>......] - ETA: 0s - loss: 1.3045 - accuracy: 0.5950\n",
            "Epoch 00001: saving model to training_1/cp.ckpt\n",
            "1000/1000 [==============================] - 1s 996us/sample - loss: 1.1779 - accuracy: 0.6410 - val_loss: 0.7237 - val_accuracy: 0.7830\n",
            "Epoch 2/10\n",
            " 896/1000 [=========================>....] - ETA: 0s - loss: 0.4279 - accuracy: 0.8862\n",
            "Epoch 00002: saving model to training_1/cp.ckpt\n",
            "1000/1000 [==============================] - 0s 306us/sample - loss: 0.4259 - accuracy: 0.8820 - val_loss: 0.5369 - val_accuracy: 0.8350\n",
            "Epoch 3/10\n",
            " 896/1000 [=========================>....] - ETA: 0s - loss: 0.2668 - accuracy: 0.9330\n",
            "Epoch 00003: saving model to training_1/cp.ckpt\n",
            "1000/1000 [==============================] - 0s 303us/sample - loss: 0.2715 - accuracy: 0.9310 - val_loss: 0.4727 - val_accuracy: 0.8570\n",
            "Epoch 4/10\n",
            " 928/1000 [==========================>...] - ETA: 0s - loss: 0.2010 - accuracy: 0.9483\n",
            "Epoch 00004: saving model to training_1/cp.ckpt\n",
            "1000/1000 [==============================] - 0s 298us/sample - loss: 0.1983 - accuracy: 0.9500 - val_loss: 0.4376 - val_accuracy: 0.8530\n",
            "Epoch 5/10\n",
            " 960/1000 [===========================>..] - ETA: 0s - loss: 0.1485 - accuracy: 0.9688\n",
            "Epoch 00005: saving model to training_1/cp.ckpt\n",
            "1000/1000 [==============================] - 0s 282us/sample - loss: 0.1456 - accuracy: 0.9700 - val_loss: 0.4116 - val_accuracy: 0.8720\n",
            "Epoch 6/10\n",
            " 928/1000 [==========================>...] - ETA: 0s - loss: 0.1057 - accuracy: 0.9881\n",
            "Epoch 00006: saving model to training_1/cp.ckpt\n",
            "1000/1000 [==============================] - 0s 293us/sample - loss: 0.1044 - accuracy: 0.9870 - val_loss: 0.4110 - val_accuracy: 0.8730\n",
            "Epoch 7/10\n",
            " 896/1000 [=========================>....] - ETA: 0s - loss: 0.0925 - accuracy: 0.9877\n",
            "Epoch 00007: saving model to training_1/cp.ckpt\n",
            "1000/1000 [==============================] - 0s 306us/sample - loss: 0.0907 - accuracy: 0.9880 - val_loss: 0.4618 - val_accuracy: 0.8480\n",
            "Epoch 8/10\n",
            " 896/1000 [=========================>....] - ETA: 0s - loss: 0.0625 - accuracy: 0.9922\n",
            "Epoch 00008: saving model to training_1/cp.ckpt\n",
            "1000/1000 [==============================] - 0s 313us/sample - loss: 0.0644 - accuracy: 0.9920 - val_loss: 0.4331 - val_accuracy: 0.8590\n",
            "Epoch 9/10\n",
            " 896/1000 [=========================>....] - ETA: 0s - loss: 0.0492 - accuracy: 0.9922\n",
            "Epoch 00009: saving model to training_1/cp.ckpt\n",
            "1000/1000 [==============================] - 0s 312us/sample - loss: 0.0497 - accuracy: 0.9930 - val_loss: 0.4160 - val_accuracy: 0.8680\n",
            "Epoch 10/10\n",
            " 896/1000 [=========================>....] - ETA: 0s - loss: 0.0336 - accuracy: 0.9989\n",
            "Epoch 00010: saving model to training_1/cp.ckpt\n",
            "1000/1000 [==============================] - 0s 310us/sample - loss: 0.0326 - accuracy: 0.9990 - val_loss: 0.4241 - val_accuracy: 0.8640\n"
          ],
          "name": "stdout"
        },
        {
          "output_type": "execute_result",
          "data": {
            "text/plain": [
              "<tensorflow.python.keras.callbacks.History at 0x7f494aa33828>"
            ]
          },
          "metadata": {
            "tags": []
          },
          "execution_count": 5
        }
      ]
    },
    {
      "cell_type": "markdown",
      "metadata": {
        "id": "VAp1i1-jxO3u",
        "colab_type": "text"
      },
      "source": [
        "この結果、エポックごとに更新される一連のTensorFlowチェックポイントファイルが作成される。"
      ]
    },
    {
      "cell_type": "code",
      "metadata": {
        "id": "--cLD8vKxKTf",
        "colab_type": "code",
        "outputId": "4e8ef324-eea2-40b8-d6af-9571f81c9cbe",
        "colab": {
          "base_uri": "https://localhost:8080/",
          "height": 34
        }
      },
      "source": [
        "!ls {checkpoint_dir}"
      ],
      "execution_count": 6,
      "outputs": [
        {
          "output_type": "stream",
          "text": [
            "checkpoint  cp.ckpt.data-00000-of-00001  cp.ckpt.index\n"
          ],
          "name": "stdout"
        }
      ]
    },
    {
      "cell_type": "markdown",
      "metadata": {
        "id": "rblPNew9xq9A",
        "colab_type": "text"
      },
      "source": [
        "訓練していない新しいモデルを作る。重みだけからモデルを復元する場合には、元のモデルと同じアーキテクチャのモデルが必要。モデルのアーキテクチャが同じであるため、モデルの異なるインスタンスであっても重みを共有することができる。\n",
        "\n",
        "訓練していない全く新しいモデルを作り、テストデータセットで評価する。訓練をしていないモデルは偶然のレベル（正解率10%以下）の性能しか無いはず。"
      ]
    },
    {
      "cell_type": "code",
      "metadata": {
        "id": "0UC1u3E5xW7f",
        "colab_type": "code",
        "outputId": "85ac3b65-2696-429d-b641-c4895306fe96",
        "colab": {
          "base_uri": "https://localhost:8080/",
          "height": 51
        }
      },
      "source": [
        "model = create_model()\n",
        "\n",
        "loss, acc = model.evaluate(test_images, test_labels, verbose=2)\n",
        "print(\"Untrained model, accuracy: {:5.2f}%\".format(100*acc))"
      ],
      "execution_count": 7,
      "outputs": [
        {
          "output_type": "stream",
          "text": [
            "1000/1 - 0s - loss: 2.4882 - accuracy: 0.0820\n",
            "Untrained model, accuracy:  8.20%\n"
          ],
          "name": "stdout"
        }
      ]
    },
    {
      "cell_type": "markdown",
      "metadata": {
        "id": "x0NaRVfiyHl8",
        "colab_type": "text"
      },
      "source": [
        "次に、チェックポイントから重みをロードし、再び評価する。"
      ]
    },
    {
      "cell_type": "code",
      "metadata": {
        "id": "xNn6f1JuyDA9",
        "colab_type": "code",
        "outputId": "090a908a-299b-499e-944b-2a6f68b703fd",
        "colab": {
          "base_uri": "https://localhost:8080/",
          "height": 51
        }
      },
      "source": [
        "model.load_weights(checkpoint_path)\n",
        "loss, acc = model.evaluate(test_images, test_labels, verbose=2)\n",
        "print(\"Untrained model, accuracy: {:5.2f}%\".format(100*acc))"
      ],
      "execution_count": 8,
      "outputs": [
        {
          "output_type": "stream",
          "text": [
            "1000/1 - 0s - loss: 0.4213 - accuracy: 0.8640\n",
            "Untrained model, accuracy: 86.40%\n"
          ],
          "name": "stdout"
        }
      ]
    },
    {
      "cell_type": "markdown",
      "metadata": {
        "id": "MzgghbUNTbNJ",
        "colab_type": "text"
      },
      "source": [
        "### チェックポイントコールバックのオプション\n",
        "このコールバックには、チェックポイントに一意な名前をつけたり、チェックポイントの頻度を調整するためのオプションがある。\n",
        "\n",
        "新しいモデルを訓練し、5エポックごとに一意な名前のチェックポイントを保存する。"
      ]
    },
    {
      "cell_type": "code",
      "metadata": {
        "id": "iv3p7ISeyX0x",
        "colab_type": "code",
        "colab": {
          "base_uri": "https://localhost:8080/",
          "height": 513
        },
        "outputId": "1aeecca4-ec38-4f4b-ce6a-08020b8677cd"
      },
      "source": [
        "# ファイル名に(`str.format`を使って)エポック数を埋め込む\n",
        "checkpoint_path = \"training_2/cp-{epoch:04d}.ckpt\"\n",
        "checkpoint_dir = os.path.dirname(checkpoint_path)\n",
        "\n",
        "cp_callback = tf.keras.callbacks.ModelCheckpoint(\n",
        "    checkpoint_path, verbose=1, save_weights_only=True,\n",
        "    # 重みを5エポックごとに保存する\n",
        "    period=5)\n",
        "\n",
        "model = create_model()\n",
        "model.fit(train_images, train_labels,\n",
        "                 epochs = 50, callbacks = [cp_callback],\n",
        "                 validation_data = (test_images, test_labels),\n",
        "                 verbose=0)"
      ],
      "execution_count": 9,
      "outputs": [
        {
          "output_type": "stream",
          "text": [
            "WARNING:tensorflow:`period` argument is deprecated. Please use `save_freq` to specify the frequency in number of samples seen.\n",
            "WARNING:tensorflow:Unresolved object in checkpoint: (root).optimizer.iter\n",
            "WARNING:tensorflow:Unresolved object in checkpoint: (root).optimizer.beta_1\n",
            "WARNING:tensorflow:Unresolved object in checkpoint: (root).optimizer.beta_2\n",
            "WARNING:tensorflow:Unresolved object in checkpoint: (root).optimizer.decay\n",
            "WARNING:tensorflow:Unresolved object in checkpoint: (root).optimizer.learning_rate\n",
            "WARNING:tensorflow:A checkpoint was restored (e.g. tf.train.Checkpoint.restore or tf.keras.Model.load_weights) but not all checkpointed values were used. See above for specific issues. Use expect_partial() on the load status object, e.g. tf.train.Checkpoint.restore(...).expect_partial(), to silence these warnings, or use assert_consumed() to make the check explicit. See https://www.tensorflow.org/alpha/guide/checkpoints#loading_mechanics for details.\n",
            "\n",
            "Epoch 00005: saving model to training_2/cp-0005.ckpt\n",
            "\n",
            "Epoch 00010: saving model to training_2/cp-0010.ckpt\n",
            "\n",
            "Epoch 00015: saving model to training_2/cp-0015.ckpt\n",
            "\n",
            "Epoch 00020: saving model to training_2/cp-0020.ckpt\n",
            "\n",
            "Epoch 00025: saving model to training_2/cp-0025.ckpt\n",
            "\n",
            "Epoch 00030: saving model to training_2/cp-0030.ckpt\n",
            "\n",
            "Epoch 00035: saving model to training_2/cp-0035.ckpt\n",
            "\n",
            "Epoch 00040: saving model to training_2/cp-0040.ckpt\n",
            "\n",
            "Epoch 00045: saving model to training_2/cp-0045.ckpt\n",
            "\n",
            "Epoch 00050: saving model to training_2/cp-0050.ckpt\n"
          ],
          "name": "stdout"
        },
        {
          "output_type": "execute_result",
          "data": {
            "text/plain": [
              "<tensorflow.python.keras.callbacks.History at 0x7f494913a048>"
            ]
          },
          "metadata": {
            "tags": []
          },
          "execution_count": 9
        }
      ]
    },
    {
      "cell_type": "markdown",
      "metadata": {
        "id": "8dXu-ZIaVSuc",
        "colab_type": "text"
      },
      "source": [
        "次に、出来上がったチェックポイントを確認し、最後のものを選択する。"
      ]
    },
    {
      "cell_type": "code",
      "metadata": {
        "id": "vOnpOmroVPch",
        "colab_type": "code",
        "colab": {
          "base_uri": "https://localhost:8080/",
          "height": 289
        },
        "outputId": "813f5f2e-d5cb-41c3-ba17-f7a7331039ec"
      },
      "source": [
        "!ls {checkpoint_dir}"
      ],
      "execution_count": 10,
      "outputs": [
        {
          "output_type": "stream",
          "text": [
            "checkpoint\t\t\t  cp-0030.ckpt\n",
            "cp-0005.ckpt\t\t\t  cp-0030.ckpt.data-00000-of-00001\n",
            "cp-0005.ckpt.data-00000-of-00001  cp-0030.ckpt.index\n",
            "cp-0005.ckpt.index\t\t  cp-0035.ckpt\n",
            "cp-0010.ckpt\t\t\t  cp-0035.ckpt.data-00000-of-00001\n",
            "cp-0010.ckpt.data-00000-of-00001  cp-0035.ckpt.index\n",
            "cp-0010.ckpt.index\t\t  cp-0040.ckpt\n",
            "cp-0015.ckpt\t\t\t  cp-0040.ckpt.data-00000-of-00001\n",
            "cp-0015.ckpt.data-00000-of-00001  cp-0040.ckpt.index\n",
            "cp-0015.ckpt.index\t\t  cp-0045.ckpt\n",
            "cp-0020.ckpt\t\t\t  cp-0045.ckpt.data-00000-of-00001\n",
            "cp-0020.ckpt.data-00000-of-00001  cp-0045.ckpt.index\n",
            "cp-0020.ckpt.index\t\t  cp-0050.ckpt\n",
            "cp-0025.ckpt\t\t\t  cp-0050.ckpt.data-00000-of-00001\n",
            "cp-0025.ckpt.data-00000-of-00001  cp-0050.ckpt.index\n",
            "cp-0025.ckpt.index\n"
          ],
          "name": "stdout"
        }
      ]
    },
    {
      "cell_type": "code",
      "metadata": {
        "id": "yuajEoG7VY4S",
        "colab_type": "code",
        "colab": {
          "base_uri": "https://localhost:8080/",
          "height": 34
        },
        "outputId": "4c5fc57f-2904-4a4e-ea8e-4cfcd131f55f"
      },
      "source": [
        "latest = tf.train.latest_checkpoint(checkpoint_dir)\n",
        "latest"
      ],
      "execution_count": 11,
      "outputs": [
        {
          "output_type": "execute_result",
          "data": {
            "text/plain": [
              "'training_2/cp-0050.ckpt'"
            ]
          },
          "metadata": {
            "tags": []
          },
          "execution_count": 11
        }
      ]
    },
    {
      "cell_type": "markdown",
      "metadata": {
        "id": "lLxjOWGNWYHE",
        "colab_type": "text"
      },
      "source": [
        "注意：デフォルトのtensorflowフォーマットは、直近の5つのチェックポイントのみを保存する。\n",
        "\n",
        "テストのため、モデルをリセットし最後のチェックポイントをロードする。"
      ]
    },
    {
      "cell_type": "code",
      "metadata": {
        "id": "UiluDGIvVlIM",
        "colab_type": "code",
        "colab": {
          "base_uri": "https://localhost:8080/",
          "height": 51
        },
        "outputId": "f0e7dfb3-4092-4c8b-e5f2-ca4632d5fb72"
      },
      "source": [
        "model = create_model()\n",
        "model.load_weights(latest)\n",
        "loss, acc = model.evaluate(test_images, test_labels, verbose=2)\n",
        "print(\"Restored model, accuracy: {:5.2f}%\".format(100*acc))"
      ],
      "execution_count": 14,
      "outputs": [
        {
          "output_type": "stream",
          "text": [
            "1000/1 - 0s - loss: 0.5353 - accuracy: 0.8820\n",
            "Restored model, accuracy: 88.20%\n"
          ],
          "name": "stdout"
        }
      ]
    },
    {
      "cell_type": "markdown",
      "metadata": {
        "id": "vtpweGL_ZFEI",
        "colab_type": "text"
      },
      "source": [
        "### これらのファイルは何？\n",
        "上記のコードでは、重みだけをバイナリでcheckpoint形式の一連のファイルに保存する。チェックポイントには、次のものが含まれる。\n",
        "\n",
        "* １つ以上のモデルの重みの断片\n",
        "* どの重みがどの断片に保存されているかを示すインデックスファイル\n",
        "\n",
        "1台のマシンだけでモデルの訓練を行っている場合には.data-00000-of-00001のようなサフィックスのついたファイルが1つだけ作成される。\n",
        "\n",
        "### 手動で重みを保存する\n",
        "上記では重みをモデルにロードする方法を見た。\n",
        "\n",
        "手動で重みを保存するのも同じ様に簡単。model.save_weights メソッドを使う。"
      ]
    },
    {
      "cell_type": "code",
      "metadata": {
        "id": "OomZ1v6rYzMu",
        "colab_type": "code",
        "colab": {
          "base_uri": "https://localhost:8080/",
          "height": 51
        },
        "outputId": "dd975cd6-a3d0-4f50-ff72-1ee704f77106"
      },
      "source": [
        "# 重みの保存\n",
        "model.save_weights('./checkpoints/my_checkpoint')\n",
        "\n",
        "# 重みの復元\n",
        "model = create_model()\n",
        "model.load_weights('./checkpoints/my_checkpoint')\n",
        "\n",
        "loss, acc = model.evaluate(test_images, test_labels, verbose=2)\n",
        "print(\"Restored model, accuracy: {:5.2f}%\".format(100*acc))"
      ],
      "execution_count": 15,
      "outputs": [
        {
          "output_type": "stream",
          "text": [
            "1000/1 - 0s - loss: 0.5353 - accuracy: 0.8820\n",
            "Restored model, accuracy: 88.20%\n"
          ],
          "name": "stdout"
        }
      ]
    },
    {
      "cell_type": "markdown",
      "metadata": {
        "id": "dfbBSrLKap-r",
        "colab_type": "text"
      },
      "source": [
        "### モデル全体の保存\n",
        "モデルとオプティマイザを、その状態（重みと変数）とモデルの設定の両方を含む1つのファイルに保存することができる。これにより、モデルをオリジナルのPythonコードにアクセスしなくとも使用できるようにエクスポートできる。オプティマイザの状態が復元されるので、中断したところから訓練を再開することも可能。\n",
        "\n",
        "完全に機能するモデルを保存できるのは便利。保存したモデルをTensorFlow.js (HDF5, Saved Model)でロードし、ブラウザで訓練したり、実行したりすることができるほか、TensorFlow Lite (HDF5, Saved Model) を使ってモバイルデバイスで実行できるように変換することも可能。\n",
        "\n",
        "HDF5ファイルとして\n",
        "Kerasでは、HDF5 標準を使った基本的なファイルフォーマットが利用できる。ここでの利用目的では、保存されたモデルは単独のバイナリラージオブジェクト（blob）として扱うことができる。"
      ]
    },
    {
      "cell_type": "code",
      "metadata": {
        "id": "4OV6F6NyamSD",
        "colab_type": "code",
        "colab": {
          "base_uri": "https://localhost:8080/",
          "height": 326
        },
        "outputId": "f0728372-20f5-4881-b802-0f8625600be6"
      },
      "source": [
        "model = create_model()\n",
        "\n",
        "model.fit(train_images, train_labels, epochs=5)\n",
        "\n",
        "# モデル全体を1つのHDF5ファイルに保存する。\n",
        "model.save('my_model.h5')"
      ],
      "execution_count": 16,
      "outputs": [
        {
          "output_type": "stream",
          "text": [
            "Train on 1000 samples\n",
            "Epoch 1/5\n",
            "WARNING:tensorflow:Unresolved object in checkpoint: (root).optimizer.iter\n",
            "WARNING:tensorflow:Unresolved object in checkpoint: (root).optimizer.beta_1\n",
            "WARNING:tensorflow:Unresolved object in checkpoint: (root).optimizer.beta_2\n",
            "WARNING:tensorflow:Unresolved object in checkpoint: (root).optimizer.decay\n",
            "WARNING:tensorflow:Unresolved object in checkpoint: (root).optimizer.learning_rate\n",
            "WARNING:tensorflow:A checkpoint was restored (e.g. tf.train.Checkpoint.restore or tf.keras.Model.load_weights) but not all checkpointed values were used. See above for specific issues. Use expect_partial() on the load status object, e.g. tf.train.Checkpoint.restore(...).expect_partial(), to silence these warnings, or use assert_consumed() to make the check explicit. See https://www.tensorflow.org/alpha/guide/checkpoints#loading_mechanics for details.\n",
            "1000/1000 [==============================] - 1s 638us/sample - loss: 1.1314 - accuracy: 0.6950\n",
            "Epoch 2/5\n",
            "1000/1000 [==============================] - 0s 159us/sample - loss: 0.4233 - accuracy: 0.8780\n",
            "Epoch 3/5\n",
            "1000/1000 [==============================] - 0s 173us/sample - loss: 0.2733 - accuracy: 0.9330\n",
            "Epoch 4/5\n",
            "1000/1000 [==============================] - 0s 175us/sample - loss: 0.2134 - accuracy: 0.9460\n",
            "Epoch 5/5\n",
            "1000/1000 [==============================] - 0s 160us/sample - loss: 0.1622 - accuracy: 0.9630\n"
          ],
          "name": "stdout"
        }
      ]
    },
    {
      "cell_type": "markdown",
      "metadata": {
        "id": "Q9ZyjJM1bUPr",
        "colab_type": "text"
      },
      "source": [
        "保存したファイルを使ってモデルを再作成する。"
      ]
    },
    {
      "cell_type": "code",
      "metadata": {
        "id": "XjfxbTZUbR1U",
        "colab_type": "code",
        "colab": {
          "base_uri": "https://localhost:8080/",
          "height": 275
        },
        "outputId": "67bf74ea-2fda-44dd-f013-47d6b5805cdf"
      },
      "source": [
        "# 重みとオプティマイザを含む全く同じモデルを再作成\n",
        "new_model = keras.models.load_model('my_model.h5')\n",
        "new_model.summary()"
      ],
      "execution_count": 17,
      "outputs": [
        {
          "output_type": "stream",
          "text": [
            "Model: \"sequential_6\"\n",
            "_________________________________________________________________\n",
            "Layer (type)                 Output Shape              Param #   \n",
            "=================================================================\n",
            "dense_12 (Dense)             (None, 512)               401920    \n",
            "_________________________________________________________________\n",
            "dropout_6 (Dropout)          (None, 512)               0         \n",
            "_________________________________________________________________\n",
            "dense_13 (Dense)             (None, 10)                5130      \n",
            "=================================================================\n",
            "Total params: 407,050\n",
            "Trainable params: 407,050\n",
            "Non-trainable params: 0\n",
            "_________________________________________________________________\n"
          ],
          "name": "stdout"
        }
      ]
    },
    {
      "cell_type": "markdown",
      "metadata": {
        "id": "73blvpLNbnFy",
        "colab_type": "text"
      },
      "source": [
        "正解率を検査する。"
      ]
    },
    {
      "cell_type": "code",
      "metadata": {
        "id": "xVeR4OqZbh1V",
        "colab_type": "code",
        "colab": {
          "base_uri": "https://localhost:8080/",
          "height": 51
        },
        "outputId": "c640e71e-e80c-4d6f-f47c-312cc525b484"
      },
      "source": [
        "loss ,acc = new_model.evaluate(test_images, test_labels, verbose=2)\n",
        "print(\"Restored model, accuracy: {:5.2f}%\".format(100*acc))"
      ],
      "execution_count": 18,
      "outputs": [
        {
          "output_type": "stream",
          "text": [
            "1000/1 - 0s - loss: 0.4646 - accuracy: 0.8560\n",
            "Restored model, accuracy: 85.60%\n"
          ],
          "name": "stdout"
        }
      ]
    },
    {
      "cell_type": "markdown",
      "metadata": {
        "id": "9ALXHscacsMu",
        "colab_type": "text"
      },
      "source": [
        "この方法では、次のすべてが保存される。\n",
        "\n",
        "* 重みの値\n",
        "* モデルの設定（アーキテクチャ）\n",
        "* オプティマイザの設定\n",
        "\n",
        "Kerasは保存する際にアーキテクチャを調べる。いまのところ、TensorFlowのオプティマイザ（tf.trainに含まれるもの）を保存することはできない。TensorFlowのオプティマイザを使用している場合には、モデルをロードしたあと再コンパイルする必要があり、オプティマイザの状態は失われる。\n",
        "\n",
        "saved_modelとして\n",
        "注意：この手法によるtf.kerasモデルの保存は実験的なもので、将来のバージョンで変更される可能性がある。\n",
        "\n",
        "新しいモデルを作る。"
      ]
    },
    {
      "cell_type": "code",
      "metadata": {
        "id": "00JM2op2b5RB",
        "colab_type": "code",
        "colab": {
          "base_uri": "https://localhost:8080/",
          "height": 241
        },
        "outputId": "3ad978d6-0ab5-47f5-d761-3f83c12a94a7"
      },
      "source": [
        "model = create_model()\n",
        "\n",
        "model.fit(train_images, train_labels, epochs=5)"
      ],
      "execution_count": 19,
      "outputs": [
        {
          "output_type": "stream",
          "text": [
            "Train on 1000 samples\n",
            "Epoch 1/5\n",
            "1000/1000 [==============================] - 0s 495us/sample - loss: 1.2101 - accuracy: 0.6600\n",
            "Epoch 2/5\n",
            "1000/1000 [==============================] - 0s 172us/sample - loss: 0.4319 - accuracy: 0.8750\n",
            "Epoch 3/5\n",
            "1000/1000 [==============================] - 0s 175us/sample - loss: 0.2878 - accuracy: 0.9240\n",
            "Epoch 4/5\n",
            "1000/1000 [==============================] - 0s 174us/sample - loss: 0.2122 - accuracy: 0.9530\n",
            "Epoch 5/5\n",
            "1000/1000 [==============================] - 0s 180us/sample - loss: 0.1615 - accuracy: 0.9680\n"
          ],
          "name": "stdout"
        },
        {
          "output_type": "execute_result",
          "data": {
            "text/plain": [
              "<tensorflow.python.keras.callbacks.History at 0x7f4945f32128>"
            ]
          },
          "metadata": {
            "tags": []
          },
          "execution_count": 19
        }
      ]
    },
    {
      "cell_type": "markdown",
      "metadata": {
        "id": "uAT8_TxMhxBc",
        "colab_type": "text"
      },
      "source": [
        "saved_modelを作成し、タイムスタンプ付きのディレクトリに保存する。"
      ]
    },
    {
      "cell_type": "code",
      "metadata": {
        "id": "BgoZp7RJhswH",
        "colab_type": "code",
        "colab": {
          "base_uri": "https://localhost:8080/",
          "height": 615
        },
        "outputId": "fa96b741-04bb-4274-8a03-8f39ce479af2"
      },
      "source": [
        "import time\n",
        "saved_model_path = \"./saved_models/{}\".format(int(time.time()))\n",
        "\n",
        "tf.keras.experimental.export_saved_model(model, saved_model_path)\n",
        "saved_model_path"
      ],
      "execution_count": 20,
      "outputs": [
        {
          "output_type": "stream",
          "text": [
            "WARNING:tensorflow:From <ipython-input-20-9d5aff309515>:4: export_saved_model (from tensorflow.python.keras.saving.saved_model_experimental) is deprecated and will be removed in a future version.\n",
            "Instructions for updating:\n",
            "Please use `model.save(..., save_format=\"tf\")` or `tf.keras.models.save_model(..., save_format=\"tf\")`.\n",
            "WARNING:tensorflow:From /usr/local/lib/python3.6/dist-packages/tensorflow_core/python/ops/resource_variable_ops.py:1630: calling BaseResourceVariable.__init__ (from tensorflow.python.ops.resource_variable_ops) with constraint is deprecated and will be removed in a future version.\n",
            "Instructions for updating:\n",
            "If using Keras pass *_constraint arguments to layers.\n",
            "WARNING:tensorflow:From /usr/local/lib/python3.6/dist-packages/tensorflow_core/python/saved_model/signature_def_utils_impl.py:253: build_tensor_info (from tensorflow.python.saved_model.utils_impl) is deprecated and will be removed in a future version.\n",
            "Instructions for updating:\n",
            "This function will only be available through the v1 compatibility library as tf.compat.v1.saved_model.utils.build_tensor_info or tf.compat.v1.saved_model.build_tensor_info.\n",
            "INFO:tensorflow:Signatures INCLUDED in export for Classify: None\n",
            "INFO:tensorflow:Signatures INCLUDED in export for Regress: None\n",
            "INFO:tensorflow:Signatures INCLUDED in export for Predict: None\n",
            "INFO:tensorflow:Signatures INCLUDED in export for Train: ['train']\n",
            "INFO:tensorflow:Signatures INCLUDED in export for Eval: None\n",
            "WARNING:tensorflow:Export includes no default signature!\n",
            "INFO:tensorflow:No assets to save.\n",
            "INFO:tensorflow:No assets to write.\n",
            "INFO:tensorflow:Signatures INCLUDED in export for Classify: None\n",
            "INFO:tensorflow:Signatures INCLUDED in export for Regress: None\n",
            "INFO:tensorflow:Signatures INCLUDED in export for Predict: None\n",
            "INFO:tensorflow:Signatures INCLUDED in export for Train: None\n",
            "INFO:tensorflow:Signatures INCLUDED in export for Eval: ['eval']\n",
            "WARNING:tensorflow:Export includes no default signature!\n",
            "INFO:tensorflow:No assets to save.\n",
            "INFO:tensorflow:No assets to write.\n",
            "INFO:tensorflow:Signatures INCLUDED in export for Classify: None\n",
            "INFO:tensorflow:Signatures INCLUDED in export for Regress: None\n",
            "INFO:tensorflow:Signatures INCLUDED in export for Predict: ['serving_default']\n",
            "INFO:tensorflow:Signatures INCLUDED in export for Train: None\n",
            "INFO:tensorflow:Signatures INCLUDED in export for Eval: None\n",
            "INFO:tensorflow:No assets to save.\n",
            "INFO:tensorflow:No assets to write.\n",
            "INFO:tensorflow:SavedModel written to: ./saved_models/1570608334/saved_model.pb\n"
          ],
          "name": "stdout"
        },
        {
          "output_type": "execute_result",
          "data": {
            "text/plain": [
              "'./saved_models/1570608334'"
            ]
          },
          "metadata": {
            "tags": []
          },
          "execution_count": 20
        }
      ]
    },
    {
      "cell_type": "markdown",
      "metadata": {
        "id": "5ucb338qjWWL",
        "colab_type": "text"
      },
      "source": [
        "作成したsaved_modelsを一覧表示する。"
      ]
    },
    {
      "cell_type": "code",
      "metadata": {
        "id": "EFb5aQ5ZjTz-",
        "colab_type": "code",
        "colab": {
          "base_uri": "https://localhost:8080/",
          "height": 326
        },
        "outputId": "b14d6f14-6a47-4cb1-f321-f6052f1cdab1"
      },
      "source": [
        "new_model = tf.keras.experimental.load_from_saved_model(saved_model_path)\n",
        "new_model.summary()"
      ],
      "execution_count": 21,
      "outputs": [
        {
          "output_type": "stream",
          "text": [
            "WARNING:tensorflow:From <ipython-input-21-74d99c8332aa>:1: load_from_saved_model (from tensorflow.python.keras.saving.saved_model_experimental) is deprecated and will be removed in a future version.\n",
            "Instructions for updating:\n",
            "The experimental save and load functions have been  deprecated. Please switch to `tf.keras.models.load_model`.\n",
            "Model: \"sequential_7\"\n",
            "_________________________________________________________________\n",
            "Layer (type)                 Output Shape              Param #   \n",
            "=================================================================\n",
            "dense_14 (Dense)             (None, 512)               401920    \n",
            "_________________________________________________________________\n",
            "dropout_7 (Dropout)          (None, 512)               0         \n",
            "_________________________________________________________________\n",
            "dense_15 (Dense)             (None, 10)                5130      \n",
            "=================================================================\n",
            "Total params: 407,050\n",
            "Trainable params: 407,050\n",
            "Non-trainable params: 0\n",
            "_________________________________________________________________\n"
          ],
          "name": "stdout"
        }
      ]
    },
    {
      "cell_type": "markdown",
      "metadata": {
        "id": "IRzTiGF-j0by",
        "colab_type": "text"
      },
      "source": [
        "復元されたモデルを実行する。"
      ]
    },
    {
      "cell_type": "code",
      "metadata": {
        "id": "6mkTt1xnjwT_",
        "colab_type": "code",
        "colab": {
          "base_uri": "https://localhost:8080/",
          "height": 34
        },
        "outputId": "bc78a994-34a3-4b9f-bb31-5f222fd12a50"
      },
      "source": [
        "model.predict(test_images).shape"
      ],
      "execution_count": 23,
      "outputs": [
        {
          "output_type": "execute_result",
          "data": {
            "text/plain": [
              "(1000, 10)"
            ]
          },
          "metadata": {
            "tags": []
          },
          "execution_count": 23
        }
      ]
    },
    {
      "cell_type": "code",
      "metadata": {
        "id": "3bJVOueFj5eg",
        "colab_type": "code",
        "colab": {
          "base_uri": "https://localhost:8080/",
          "height": 51
        },
        "outputId": "73965fb3-a3bb-4ce2-b1bd-864ce054b325"
      },
      "source": [
        "# モデルを評価する前にコンパイルする必要がある。\n",
        "# モデルをデプロイするだけであればこのステップは不要。\n",
        "\n",
        "new_model.compile(optimizer=model.optimizer, # ロードしてあったオプティマイザを保持\n",
        "                  loss = 'sparse_categorical_crossentropy',\n",
        "                  metrics=['accuracy'])\n",
        "\n",
        "# モデルを評価する。\n",
        "loss , acc = new_model.evaluate(test_images, test_labels, verbose=2)\n",
        "print(\"Restored model, accuracy: {:5.2f}%\".format(100*acc))\n",
        "\n"
      ],
      "execution_count": 24,
      "outputs": [
        {
          "output_type": "stream",
          "text": [
            "1000/1 - 0s - loss: 0.5804 - accuracy: 0.8630\n",
            "Restored model, accuracy: 86.30%\n"
          ],
          "name": "stdout"
        }
      ]
    },
    {
      "cell_type": "code",
      "metadata": {
        "id": "YFRWt_VEkdOa",
        "colab_type": "code",
        "colab": {}
      },
      "source": [
        ""
      ],
      "execution_count": 0,
      "outputs": []
    }
  ]
}